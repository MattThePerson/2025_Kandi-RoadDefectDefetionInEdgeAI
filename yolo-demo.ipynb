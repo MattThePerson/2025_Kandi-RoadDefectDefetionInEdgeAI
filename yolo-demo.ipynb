{
 "cells": [
  {
   "cell_type": "code",
   "execution_count": 1,
   "metadata": {},
   "outputs": [],
   "source": [
    "from ultralytics import YOLO\n",
    "from ultralytics import settings"
   ]
  },
  {
   "cell_type": "code",
   "execution_count": null,
   "metadata": {},
   "outputs": [],
   "source": [
    "# YOLO settings\n",
    "settings.reset() # resets YOLO settings\n",
    "\n",
    "settings.update({\n",
    "    \"datasets_dir\": \"./datasets\",\n",
    "    \"runs_dir\":     \"./runs\",\n",
    "    \"weights_dir\":  \"./weights\",\n",
    "})\n",
    "settings"
   ]
  },
  {
   "cell_type": "code",
   "execution_count": null,
   "metadata": {},
   "outputs": [],
   "source": [
    "# Valitse malli\n",
    "pretrained_model_names = [\n",
    "    \"yolov8m.pt\",   # 50MB    295 layers  25,902,640 params   79.3 GFLOPs\n",
    "    \"yolov8n.pt\",   # 6MB     295 layers  3,157,200 params    8.9 GFLOPs\n",
    "    \"yolo11n.pt\",   # \n",
    "]\n",
    "model_name = pretrained_model_names[0]\n",
    "print(f'Loading model \"{model_name}\"')\n",
    "model= YOLO(model_name)\n",
    "model.info()"
   ]
  },
  {
   "cell_type": "code",
   "execution_count": null,
   "metadata": {},
   "outputs": [],
   "source": [
    "# show device model is on (default cpu)\n",
    "model.device"
   ]
  },
  {
   "cell_type": "code",
   "execution_count": null,
   "metadata": {},
   "outputs": [],
   "source": [
    "# HUOM: Jos ei ole NVIDIA Näytönajuri ja/tai Cuda, niin en tiedä että toimiiko tämä\n",
    "model = model.to('cuda') # switch to gpu\n",
    "model.device"
   ]
  },
  {
   "cell_type": "code",
   "execution_count": null,
   "metadata": {},
   "outputs": [],
   "source": [
    "# Train on dataset define in .yaml file\n",
    "results = model.train(data=\"RDD2022.yaml\", epochs=1)"
   ]
  },
  {
   "cell_type": "code",
   "execution_count": null,
   "metadata": {},
   "outputs": [],
   "source": [
    "# Evaluate the model's performance on the validation set (what about test set?)\n",
    "results = model.val()"
   ]
  },
  {
   "cell_type": "code",
   "execution_count": null,
   "metadata": {},
   "outputs": [],
   "source": [
    "# Perform object detection on an image using the model\n",
    "test_images = [\n",
    "    'datasets/RDD2022_preprocessed/images/test/China_Drone_000460.jpg',\n",
    "    'datasets/RDD2022_preprocessed/images/test/China_MotorBike_000000.jpg',\n",
    "    'datasets/RDD2022_preprocessed/images/test/China_MotorBike_000264.jpg',\n",
    "    'datasets/RDD2022_preprocessed/images/test/China_Drone_000181.jpg',\n",
    "]\n",
    "test_image = test_images[-1]\n",
    "results = model(test_images)"
   ]
  },
  {
   "cell_type": "code",
   "execution_count": null,
   "metadata": {},
   "outputs": [],
   "source": [
    "# Export the model to ONNX format\n",
    "success = model.export(format=\"onnx\")"
   ]
  }
 ],
 "metadata": {
  "kernelspec": {
   "display_name": ".venv",
   "language": "python",
   "name": "python3"
  },
  "language_info": {
   "codemirror_mode": {
    "name": "ipython",
    "version": 3
   },
   "file_extension": ".py",
   "mimetype": "text/x-python",
   "name": "python",
   "nbconvert_exporter": "python",
   "pygments_lexer": "ipython3",
   "version": "3.11.0"
  }
 },
 "nbformat": 4,
 "nbformat_minor": 2
}
